{
 "cells": [
  {
   "cell_type": "code",
   "execution_count": 1,
   "metadata": {},
   "outputs": [],
   "source": [
    "# Basic setting\n",
    "import pickle\n",
    "import numpy as np\n",
    "import pandas as pd\n",
    "import matplotlib.pyplot as plt\n",
    "%matplotlib inline"
   ]
  },
  {
   "cell_type": "markdown",
   "metadata": {},
   "source": [
    "# [과제] 주어진 데이터에 대해서 다항 회귀 모델 학습하기\n",
    "\n",
    "---\n",
    "\n",
    "## 본 과제의 목표는 다음과 같음\n",
    "\n",
    "1. 데이터를 불러오고, 학습과 평가 데이터로 나눌 수 있음\n",
    "2. `numpy`를 이용해, 간단한 다항 회귀 모델을 구현하고 경사 하강법을 통해 학습할 수 있음\n",
    "3. `sklearn` 라이브러리의 클래스를 활용해 다항 회귀 모델을 정의하고 학습할 수 있음"
   ]
  },
  {
   "cell_type": "code",
   "execution_count": 20,
   "metadata": {},
   "outputs": [],
   "source": [
    "# Making polynomial data\n",
    "n = 3 # degree of the polynomial\n",
    "\n",
    "roots = np.random.uniform(-1, 1, n)   # Generates random roots for a 5th degree polynomial\n",
    "polyCoefficients = np.poly(roots)   # Find coefficients of polynomial that has said roots\n",
    "\n",
    "X = np.arange(-100, 100)   # Randomly generated X values\n",
    "y = np.polyval(polyCoefficients, X)   # Corresponding Y values passed through polynomial\n",
    "\n",
    "delta = np.random.uniform(-300000, 300000, size=(200,))\n",
    "y += delta\n",
    "\n",
    "\n",
    "def normalize(X):\n",
    "    return (X - X.mean()) / X.std()\n",
    "\n",
    "X = normalize(X)\n",
    "y = normalize(y)\n",
    "\n",
    "with open('./data/polynomial_regression.pickle', 'wb') as f:\n",
    "    pickle.dump([X, y], f)"
   ]
  },
  {
   "cell_type": "code",
   "execution_count": 21,
   "metadata": {},
   "outputs": [],
   "source": [
    "# Load the dataset\n",
    "with open('./data/polynomial_regression.pickle', 'rb') as f:\n",
    "    X, y = pickle.load(f)"
   ]
  },
  {
   "cell_type": "code",
   "execution_count": 22,
   "metadata": {},
   "outputs": [
    {
     "data": {
      "image/png": "[encoded data removed]",
      "text/plain": [
       "<Figure size 432x288 with 1 Axes>"
      ]
     },
     "metadata": {
      "needs_background": "light"
     },
     "output_type": "display_data"
    }
   ],
   "source": [
    "# Check the dataset distribution    \n",
    "plt.scatter(X, y)\n",
    "plt.show()"
   ]
  },
  {
   "cell_type": "markdown",
   "metadata": {},
   "source": [
    "## [P.1] 학습 데이터와 평가 데이터로 나누기\n",
    "---\n",
    "\n",
    "- 이 때, 평가 데이터는 전체의 20%로 설정\n",
    "- 학습과 평가 데이터셋을 각각 시각화하여 보여주기"
   ]
  },
  {
   "cell_type": "code",
   "execution_count": 23,
   "metadata": {},
   "outputs": [],
   "source": [
    "# Use sklearn library\n",
    "from sklearn.model_selection import train_test_split\n",
    "\n",
    "X_train, X_test, y_train, y_test = train_test_split(X, y, test_size=0.2, random_state=42)"
   ]
  },
  {
   "cell_type": "code",
   "execution_count": 24,
   "metadata": {},
   "outputs": [
    {
     "data": {
      "image/png": "[encoded data removed]",
      "text/plain": [
       "<Figure size 432x288 with 1 Axes>"
      ]
     },
     "metadata": {
      "needs_background": "light"
     },
     "output_type": "display_data"
    }
   ],
   "source": [
    "# Visualize train dataset  \n",
    "plt.scatter(X_train, y_train)\n",
    "plt.show()"
   ]
  },
  {
   "cell_type": "code",
   "execution_count": 25,
   "metadata": {},
   "outputs": [
    {
     "data": {
      "image/png": "[encoded data removed]",
      "text/plain": [
       "<Figure size 432x288 with 1 Axes>"
      ]
     },
     "metadata": {
      "needs_background": "light"
     },
     "output_type": "display_data"
    }
   ],
   "source": [
    "# Visualize train dataset  \n",
    "plt.scatter(X_test, y_test)\n",
    "plt.show()"
   ]
  },
  {
   "cell_type": "markdown",
   "metadata": {},
   "source": [
    "## [P.2] `numpy` 라이브러리를 통해, 최적의 다항 회귀 모델 학습\n",
    "\n",
    "---\n",
    "\n",
    "- 데이터의 분포를 살펴보고, 가장 적합해 보이는 차수의 다항 회귀 모델을 정의\n",
    "- 각 파라미터의 최적값을 경사 하강법을 통해 찾기\n",
    "- 이 때의 학습 손실값과 평가 데이터에 대한 손실값을 계산"
   ]
  },
  {
   "cell_type": "markdown",
   "metadata": {},
   "source": [
    "### 위 데이터에 가장 적합한 회귀 모델은 3차 함수 형태의 모델임\n",
    "\\begin{equation*}\n",
    "f(x) = w_1X^3 + w_2X^2 + w_3X + b\n",
    "\\end{equation*}\n",
    "\n",
    "- 파라미터는 총 4개 존재함"
   ]
  },
  {
   "cell_type": "code",
   "execution_count": 26,
   "metadata": {},
   "outputs": [],
   "source": [
    "def gd_numpy(X, y, epochs, lr):\n",
    "    # Model weights and bias parameters\n",
    "    w1 = 1.0\n",
    "    w2 = 1.0\n",
    "    w3 = 1.0\n",
    "    b = 1.0\n",
    "\n",
    "    # Perform Gradient Descent\n",
    "    for i in range(epochs):\n",
    "\n",
    "    #################################################\n",
    "    ######## Hint: use +, -, *, /, **, np.mean() ########\n",
    "        loss = np.mean((y - (w1*X**3 + w2*X**2 + w3*X + b))**2)   # MSE loss\n",
    "\n",
    "        dw1 = -2 * np.mean((y - (w1*X**3 + w2*X**2 + w3*X + b)) * X**3)   # derivative w.r.t to w\n",
    "        dw2 = -2 * np.mean((y - (w1*X**3 + w2*X**2 + w3*X + b)) * X**2)   # derivative w.r.t to w\n",
    "        dw3 = -2 * np.mean((y - (w1*X**3 + w2*X**2 + w3*X + b)) * X)   # derivative w.r.t to w\n",
    "        db = -2 * np.mean(y - (w1*X**3 + w2*X**2 + w3*X + b))   # derivative w.r.t to b\n",
    "    #################################################\n",
    "\n",
    "        w1 = w1 - lr * dw1   # update w\n",
    "        w2 = w2 - lr * dw2   # update w\n",
    "        w3 = w3 - lr * dw3   # update w\n",
    "        b = b - lr * db   # update b\n",
    "\n",
    "    print('Trained model weights : %.4f, %.4f, %.4f' % (w1, w2, w3))\n",
    "    print('Trained model bias : %.4f' % b)\n",
    "    \n",
    "    return w1, w2, w3, b"
   ]
  },
  {
   "cell_type": "code",
   "execution_count": 44,
   "metadata": {
    "scrolled": true
   },
   "outputs": [
    {
     "name": "stdout",
     "output_type": "stream",
     "text": [
      "Trained model weights : 0.9916, 0.9940, 0.9959\n",
      "Trained model bias : 0.9959\n"
     ]
    }
   ],
   "source": [
    "# Training setting\n",
    "epochs = 1000\n",
    "learning_rate = 1e-6\n",
    "\n",
    "w1, w2, w3, b = gd_numpy(X_train, y_train, epochs, learning_rate)"
   ]
  },
  {
   "cell_type": "code",
   "execution_count": 45,
   "metadata": {},
   "outputs": [
    {
     "data": {
      "image/png": "[encoded data removed]",
      "text/plain": [
       "<Figure size 432x288 with 1 Axes>"
      ]
     },
     "metadata": {
      "needs_background": "light"
     },
     "output_type": "display_data"
    }
   ],
   "source": [
    "# Visualize the trained linear regression model\n",
    "# scatter the original data\n",
    "plt.scatter(X_train, y_train)   \n",
    "\n",
    "# plot prediction results\n",
    "y_pred = w1*X_train**3 + w2*X_train**2 + w3*X_train + b\n",
    "\n",
    "plt.scatter(X_train, y_pred, color='red')\n",
    "plt.show()"
   ]
  },
  {
   "cell_type": "code",
   "execution_count": 46,
   "metadata": {},
   "outputs": [
    {
     "name": "stdout",
     "output_type": "stream",
     "text": [
      "Train Loss for LinearRegression model : 9.4602\n"
     ]
    }
   ],
   "source": [
    "# get train loss\n",
    "y_pred = w1*X_train**3 + w2*X_train**2 + w3*X_train + b\n",
    "\n",
    "train_loss = np.mean((y_train - y_pred)**2)\n",
    "print('Train Loss for LinearRegression model : %.4f' % train_loss)"
   ]
  },
  {
   "cell_type": "code",
   "execution_count": 47,
   "metadata": {},
   "outputs": [
    {
     "data": {
      "image/png": "[encoded data removed]",
      "text/plain": [
       "<Figure size 432x288 with 1 Axes>"
      ]
     },
     "metadata": {
      "needs_background": "light"
     },
     "output_type": "display_data"
    }
   ],
   "source": [
    "# Visualize the trained linear regression model\n",
    "# scatter the original data\n",
    "plt.scatter(X_test, y_test)   \n",
    "\n",
    "# plot prediction results\n",
    "y_pred = w1*X_test**3 + w2*X_test**2 + w3*X_test + b\n",
    "\n",
    "plt.scatter(X_test, y_pred, color='red')\n",
    "plt.show()"
   ]
  },
  {
   "cell_type": "code",
   "execution_count": 48,
   "metadata": {},
   "outputs": [
    {
     "name": "stdout",
     "output_type": "stream",
     "text": [
      "Test Loss for LinearRegression model : 6.8398\n"
     ]
    }
   ],
   "source": [
    "y_pred = w1*X_test**3 + w2*X_test**2 + w3*X_test + b\n",
    "test_loss = np.mean((y_test - y_pred)**2)\n",
    "print('Test Loss for LinearRegression model : %.4f' % test_loss)"
   ]
  },
  {
   "cell_type": "markdown",
   "metadata": {},
   "source": [
    "## [P.3] `sklearn` 라이브러리를 통해, 최적의 다항 회귀 모델 학습\n",
    "\n",
    "---\n",
    "\n",
    "- 다항 회귀 모델 학습에 필요한 `sklearn`의 클래스를 사용 (Hint: [PolynomialFeatures](https://scikit-learn.org/stable/modules/generated/sklearn.preprocessing.PolynomialFeatures.html), [pseudo_code](https://stats.stackexchange.com/questions/58739/polynomial-regression-using-scikit-learn))\n",
    "- 주어진 데이터에 대해 학습 및 평가 진행\n",
    "- P.2와 마찬가지로 학습 손실값과 평가 데이터에 대한 손실값을 계산"
   ]
  },
  {
   "cell_type": "code",
   "execution_count": 86,
   "metadata": {},
   "outputs": [],
   "source": [
    "from sklearn.preprocessing import PolynomialFeatures\n",
    "from sklearn.linear_model import LinearRegression"
   ]
  },
  {
   "cell_type": "code",
   "execution_count": 87,
   "metadata": {},
   "outputs": [],
   "source": [
    "def gd_sklearn(X, y, degree):\n",
    "    # preprocessing\n",
    "    X_2d = X.reshape(-1, 1)\n",
    "    \n",
    "    poly = PolynomialFeatures(degree=degree)\n",
    "    X_poly = poly.fit_transform(X_2d)\n",
    "    \n",
    "    reg = LinearRegression()\n",
    "    reg.fit(X_poly, y)\n",
    "\n",
    "#     print('Trained model weights : %s' % w)\n",
    "    \n",
    "    return poly, reg"
   ]
  },
  {
   "cell_type": "code",
   "execution_count": 88,
   "metadata": {},
   "outputs": [],
   "source": [
    "degree = 3\n",
    "\n",
    "poly, reg = gd_sklearn(X_train, y_train, degree)"
   ]
  },
  {
   "cell_type": "code",
   "execution_count": 89,
   "metadata": {
    "scrolled": true
   },
   "outputs": [
    {
     "data": {
      "image/png": "[encoded data removed]",
      "text/plain": [
       "<Figure size 432x288 with 1 Axes>"
      ]
     },
     "metadata": {
      "needs_background": "light"
     },
     "output_type": "display_data"
    }
   ],
   "source": [
    "# Visualize the trained linear regression model\n",
    "# scatter the original data\n",
    "plt.scatter(X_train, y_train)   \n",
    "\n",
    "# plot prediction results\n",
    "y_pred = reg.predict(poly.fit_transform(X_train.reshape(-1, 1)))\n",
    "\n",
    "plt.scatter(X_train, y_pred, color='red')\n",
    "plt.show()"
   ]
  },
  {
   "cell_type": "code",
   "execution_count": 90,
   "metadata": {},
   "outputs": [
    {
     "name": "stdout",
     "output_type": "stream",
     "text": [
      "Train Loss for LinearRegression model : 0.1818\n"
     ]
    }
   ],
   "source": [
    "# get train loss\n",
    "train_loss = np.mean((y_train - y_pred)**2)\n",
    "print('Train Loss for LinearRegression model : %.4f' % train_loss)"
   ]
  },
  {
   "cell_type": "code",
   "execution_count": 91,
   "metadata": {},
   "outputs": [
    {
     "data": {
      "image/png": "[encoded data removed]",
      "text/plain": [
       "<Figure size 432x288 with 1 Axes>"
      ]
     },
     "metadata": {
      "needs_background": "light"
     },
     "output_type": "display_data"
    }
   ],
   "source": [
    "# Visualize the trained linear regression model\n",
    "# scatter the original data\n",
    "plt.scatter(X_test, y_test)   \n",
    "\n",
    "# plot prediction results\n",
    "y_pred = reg.predict(poly.fit_transform(X_test.reshape(-1, 1)))\n",
    "\n",
    "plt.scatter(X_test, y_pred, color='red')\n",
    "plt.show()"
   ]
  },
  {
   "cell_type": "code",
   "execution_count": 92,
   "metadata": {},
   "outputs": [
    {
     "name": "stdout",
     "output_type": "stream",
     "text": [
      "Test Loss for LinearRegression model : 0.1771\n"
     ]
    }
   ],
   "source": [
    "# get test loss\n",
    "test_loss = np.mean((y_test - y_pred)**2)\n",
    "print('Test Loss for LinearRegression model : %.4f' % test_loss)"
   ]
  },
  {
   "cell_type": "markdown",
   "metadata": {},
   "source": [
    " "
   ]
  }
 ],
 "metadata": {
  "kernelspec": {
   "display_name": "Python 3 (ipykernel)",
   "language": "python",
   "name": "python3"
  },
  "language_info": {
   "codemirror_mode": {
    "name": "ipython",
    "version": 3
   },
   "file_extension": ".py",
   "mimetype": "text/x-python",
   "name": "python",
   "nbconvert_exporter": "python",
   "pygments_lexer": "ipython3",
   "version": "3.8.18"
  }
 },
 "nbformat": 4,
 "nbformat_minor": 4
}
